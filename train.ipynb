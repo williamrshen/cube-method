{
 "cells": [
  {
   "cell_type": "code",
   "execution_count": 4,
   "metadata": {},
   "outputs": [],
   "source": [
    "import pandas as pd\n",
    "import numpy as np\n",
    "import tensorflow as tf\n",
    "from tensorflow.keras.preprocessing.text import Tokenizer\n",
    "from tensorflow.keras.preprocessing.sequence import pad_sequences\n",
    "from tensorflow.keras.models import Sequential\n",
    "from tensorflow.keras.layers import Embedding, LSTM, Dense, Dropout\n",
    "from sklearn.model_selection import train_test_split\n",
    "from sklearn.preprocessing import LabelEncoder"
   ]
  },
  {
   "cell_type": "code",
   "execution_count": 25,
   "metadata": {},
   "outputs": [
    {
     "data": {
      "text/html": [
       "<div>\n",
       "<style scoped>\n",
       "    .dataframe tbody tr th:only-of-type {\n",
       "        vertical-align: middle;\n",
       "    }\n",
       "\n",
       "    .dataframe tbody tr th {\n",
       "        vertical-align: top;\n",
       "    }\n",
       "\n",
       "    .dataframe thead th {\n",
       "        text-align: right;\n",
       "    }\n",
       "</style>\n",
       "<table border=\"1\" class=\"dataframe\">\n",
       "  <thead>\n",
       "    <tr style=\"text-align: right;\">\n",
       "      <th></th>\n",
       "      <th>solver</th>\n",
       "      <th>time</th>\n",
       "      <th>recon</th>\n",
       "      <th>method</th>\n",
       "      <th>stm</th>\n",
       "      <th>stps</th>\n",
       "      <th>etm</th>\n",
       "      <th>etps</th>\n",
       "      <th>rotations</th>\n",
       "    </tr>\n",
       "  </thead>\n",
       "  <tbody>\n",
       "    <tr>\n",
       "      <th>0</th>\n",
       "      <td>Kevin Costello III</td>\n",
       "      <td>6.94</td>\n",
       "      <td>R' L y U' R U' R' U2' R' U R y' U2 R U R' y' U...</td>\n",
       "      <td>CFOP</td>\n",
       "      <td>43</td>\n",
       "      <td>6.20</td>\n",
       "      <td>47</td>\n",
       "      <td>6.77</td>\n",
       "      <td>4</td>\n",
       "    </tr>\n",
       "    <tr>\n",
       "      <th>1</th>\n",
       "      <td>Austin Moore</td>\n",
       "      <td>11.15</td>\n",
       "      <td>M' u U F' L U x2 U' M' L F' r' U x U M' U R' U...</td>\n",
       "      <td>Roux</td>\n",
       "      <td>52</td>\n",
       "      <td>NaN</td>\n",
       "      <td>54</td>\n",
       "      <td>NaN</td>\n",
       "      <td>2</td>\n",
       "    </tr>\n",
       "    <tr>\n",
       "      <th>2</th>\n",
       "      <td>Austin Moore</td>\n",
       "      <td>11.18</td>\n",
       "      <td>r D L U x R' F' r' F' U' M2' U R2 U2' r' U' r ...</td>\n",
       "      <td>Roux</td>\n",
       "      <td>54</td>\n",
       "      <td>NaN</td>\n",
       "      <td>55</td>\n",
       "      <td>NaN</td>\n",
       "      <td>1</td>\n",
       "    </tr>\n",
       "    <tr>\n",
       "      <th>3</th>\n",
       "      <td>Austin Moore</td>\n",
       "      <td>11.30</td>\n",
       "      <td>D U l F' U l' U R' U r' U' r U x U M' U R U' R...</td>\n",
       "      <td>Roux</td>\n",
       "      <td>67</td>\n",
       "      <td>NaN</td>\n",
       "      <td>68</td>\n",
       "      <td>NaN</td>\n",
       "      <td>1</td>\n",
       "    </tr>\n",
       "    <tr>\n",
       "      <th>4</th>\n",
       "      <td>Austin Moore</td>\n",
       "      <td>8.65</td>\n",
       "      <td>x' U2 F' U l' U R r U' x R' U M' U R' U R2' U ...</td>\n",
       "      <td>Roux</td>\n",
       "      <td>45</td>\n",
       "      <td>NaN</td>\n",
       "      <td>47</td>\n",
       "      <td>NaN</td>\n",
       "      <td>2</td>\n",
       "    </tr>\n",
       "  </tbody>\n",
       "</table>\n",
       "</div>"
      ],
      "text/plain": [
       "               solver   time  \\\n",
       "0  Kevin Costello III   6.94   \n",
       "1        Austin Moore  11.15   \n",
       "2        Austin Moore  11.18   \n",
       "3        Austin Moore  11.30   \n",
       "4        Austin Moore   8.65   \n",
       "\n",
       "                                               recon method stm  stps etm  \\\n",
       "0  R' L y U' R U' R' U2' R' U R y' U2 R U R' y' U...   CFOP  43  6.20  47   \n",
       "1  M' u U F' L U x2 U' M' L F' r' U x U M' U R' U...   Roux  52   NaN  54   \n",
       "2  r D L U x R' F' r' F' U' M2' U R2 U2' r' U' r ...   Roux  54   NaN  55   \n",
       "3  D U l F' U l' U R' U r' U' r U x U M' U R U' R...   Roux  67   NaN  68   \n",
       "4  x' U2 F' U l' U R r U' x R' U M' U R' U R2' U ...   Roux  45   NaN  47   \n",
       "\n",
       "   etps  rotations  \n",
       "0  6.77          4  \n",
       "1   NaN          2  \n",
       "2   NaN          1  \n",
       "3   NaN          1  \n",
       "4   NaN          2  "
      ]
     },
     "execution_count": 25,
     "metadata": {},
     "output_type": "execute_result"
    }
   ],
   "source": [
    "cols = [\"solver\", \"time\", \"recon\", \"method\", \"stm\", \"stps\", \"etm\", \"etps\", \"rotations\"]\n",
    "df = pd.read_csv(\"solve_data.csv\", names=cols)\n",
    "df.head()"
   ]
  },
  {
   "cell_type": "code",
   "execution_count": 26,
   "metadata": {},
   "outputs": [],
   "source": [
    "# Extract relevant columns\n",
    "X_text = df['recon'].astype(str).values  # Move sequences\n",
    "X_numeric = df[['stm', 'stps', 'etm', 'etps', 'rotations']].values  # Other features\n",
    "y = df['method'].values  # Target (solving method)\n"
   ]
  },
  {
   "cell_type": "code",
   "execution_count": 27,
   "metadata": {},
   "outputs": [],
   "source": [
    "# Tokenize move sequences\n",
    "tokenizer = Tokenizer(char_level=False)  # Moves as words, not letters\n",
    "tokenizer.fit_on_texts(X_text)\n",
    "X_text_seq = tokenizer.texts_to_sequences(X_text)\n",
    "X_text_padded = pad_sequences(X_text_seq, padding='post', maxlen=100)"
   ]
  },
  {
   "cell_type": "code",
   "execution_count": 30,
   "metadata": {},
   "outputs": [],
   "source": [
    "# Encode the target labels\n",
    "le = LabelEncoder()\n",
    "y_encoded = le.fit_transform(y)"
   ]
  },
  {
   "cell_type": "code",
   "execution_count": 31,
   "metadata": {},
   "outputs": [],
   "source": [
    "X_train_text, X_test_text, X_train_num, X_test_num, y_train, y_test = train_test_split(\n",
    "    X_text_padded, X_numeric, y_encoded, test_size=0.2, random_state=42\n",
    ")"
   ]
  },
  {
   "cell_type": "code",
   "execution_count": 32,
   "metadata": {},
   "outputs": [
    {
     "name": "stderr",
     "output_type": "stream",
     "text": [
      "C:\\Users\\jiant\\AppData\\Local\\Packages\\PythonSoftwareFoundation.Python.3.11_qbz5n2kfra8p0\\LocalCache\\local-packages\\Python311\\site-packages\\keras\\src\\layers\\core\\embedding.py:90: UserWarning: Argument `input_length` is deprecated. Just remove it.\n",
      "  warnings.warn(\n"
     ]
    },
    {
     "name": "stdout",
     "output_type": "stream",
     "text": [
      "Epoch 1/10\n",
      "\u001b[1m234/234\u001b[0m \u001b[32m━━━━━━━━━━━━━━━━━━━━\u001b[0m\u001b[37m\u001b[0m \u001b[1m20s\u001b[0m 71ms/step - accuracy: 0.9268 - loss: 0.4474 - val_accuracy: 0.9369 - val_loss: 0.2951\n",
      "Epoch 2/10\n",
      "\u001b[1m234/234\u001b[0m \u001b[32m━━━━━━━━━━━━━━━━━━━━\u001b[0m\u001b[37m\u001b[0m \u001b[1m16s\u001b[0m 69ms/step - accuracy: 0.9300 - loss: 0.3311 - val_accuracy: 0.9369 - val_loss: 0.2941\n",
      "Epoch 3/10\n",
      "\u001b[1m234/234\u001b[0m \u001b[32m━━━━━━━━━━━━━━━━━━━━\u001b[0m\u001b[37m\u001b[0m \u001b[1m16s\u001b[0m 70ms/step - accuracy: 0.9319 - loss: 0.3218 - val_accuracy: 0.9369 - val_loss: 0.2950\n",
      "Epoch 4/10\n",
      "\u001b[1m234/234\u001b[0m \u001b[32m━━━━━━━━━━━━━━━━━━━━\u001b[0m\u001b[37m\u001b[0m \u001b[1m16s\u001b[0m 69ms/step - accuracy: 0.9355 - loss: 0.3024 - val_accuracy: 0.9369 - val_loss: 0.2958\n",
      "Epoch 5/10\n",
      "\u001b[1m234/234\u001b[0m \u001b[32m━━━━━━━━━━━━━━━━━━━━\u001b[0m\u001b[37m\u001b[0m \u001b[1m16s\u001b[0m 69ms/step - accuracy: 0.9318 - loss: 0.3169 - val_accuracy: 0.9369 - val_loss: 0.2940\n",
      "Epoch 6/10\n",
      "\u001b[1m234/234\u001b[0m \u001b[32m━━━━━━━━━━━━━━━━━━━━\u001b[0m\u001b[37m\u001b[0m \u001b[1m16s\u001b[0m 70ms/step - accuracy: 0.9338 - loss: 0.3123 - val_accuracy: 0.9369 - val_loss: 0.2960\n",
      "Epoch 7/10\n",
      "\u001b[1m234/234\u001b[0m \u001b[32m━━━━━━━━━━━━━━━━━━━━\u001b[0m\u001b[37m\u001b[0m \u001b[1m16s\u001b[0m 69ms/step - accuracy: 0.9347 - loss: 0.3147 - val_accuracy: 0.9369 - val_loss: 0.2959\n",
      "Epoch 8/10\n",
      "\u001b[1m234/234\u001b[0m \u001b[32m━━━━━━━━━━━━━━━━━━━━\u001b[0m\u001b[37m\u001b[0m \u001b[1m16s\u001b[0m 68ms/step - accuracy: 0.9335 - loss: 0.3122 - val_accuracy: 0.9369 - val_loss: 0.2969\n",
      "Epoch 9/10\n",
      "\u001b[1m234/234\u001b[0m \u001b[32m━━━━━━━━━━━━━━━━━━━━\u001b[0m\u001b[37m\u001b[0m \u001b[1m16s\u001b[0m 69ms/step - accuracy: 0.9332 - loss: 0.3143 - val_accuracy: 0.9369 - val_loss: 0.2941\n",
      "Epoch 10/10\n",
      "\u001b[1m234/234\u001b[0m \u001b[32m━━━━━━━━━━━━━━━━━━━━\u001b[0m\u001b[37m\u001b[0m \u001b[1m16s\u001b[0m 69ms/step - accuracy: 0.9297 - loss: 0.3272 - val_accuracy: 0.9369 - val_loss: 0.2944\n",
      "\u001b[1m59/59\u001b[0m \u001b[32m━━━━━━━━━━━━━━━━━━━━\u001b[0m\u001b[37m\u001b[0m \u001b[1m2s\u001b[0m 28ms/step - accuracy: 0.9403 - loss: 0.2836\n",
      "Test Accuracy: 0.9369\n"
     ]
    }
   ],
   "source": [
    "embedding_dim = 64\n",
    "lstm_units = 128\n",
    "\n",
    "model = Sequential([\n",
    "    Embedding(input_dim=len(tokenizer.word_index) + 1, output_dim=embedding_dim, input_length=X_text_padded.shape[1]),\n",
    "    LSTM(lstm_units, return_sequences=True),\n",
    "    LSTM(lstm_units),\n",
    "    Dense(64, activation='relu'),\n",
    "    Dropout(0.3),\n",
    "    Dense(len(np.unique(y_encoded)), activation='softmax')  # Multi-class classification\n",
    "])\n",
    "\n",
    "model.compile(loss='sparse_categorical_crossentropy', optimizer='adam', metrics=['accuracy'])\n",
    "\n",
    "# Train the model\n",
    "model.fit(X_train_text, y_train, epochs=10, batch_size=32, validation_data=(X_test_text, y_test))\n",
    "\n",
    "# Evaluate the model\n",
    "test_loss, test_acc = model.evaluate(X_test_text, y_test)\n",
    "print(f\"Test Accuracy: {test_acc:.4f}\")"
   ]
  }
 ],
 "metadata": {
  "kernelspec": {
   "display_name": "Python 3",
   "language": "python",
   "name": "python3"
  },
  "language_info": {
   "codemirror_mode": {
    "name": "ipython",
    "version": 3
   },
   "file_extension": ".py",
   "mimetype": "text/x-python",
   "name": "python",
   "nbconvert_exporter": "python",
   "pygments_lexer": "ipython3",
   "version": "3.11.9"
  }
 },
 "nbformat": 4,
 "nbformat_minor": 2
}
